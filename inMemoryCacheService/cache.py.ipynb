{
 "cells": [
  {
   "cell_type": "code",
   "execution_count": 3,
   "metadata": {
    "collapsed": false
   },
   "outputs": [
    {
     "ename": "ValueError",
     "evalue": "-f is not a valid IP address/port",
     "output_type": "error",
     "traceback": [
      "\u001b[0;31m---------------------------------------------------------------------------\u001b[0m",
      "\u001b[0;31mValueError\u001b[0m                                Traceback (most recent call last)",
      "\u001b[0;32m<ipython-input-3-f4af35ce4a2e>\u001b[0m in \u001b[0;36m<module>\u001b[0;34m()\u001b[0m\n\u001b[1;32m     75\u001b[0m \u001b[0;34m\u001b[0m\u001b[0m\n\u001b[1;32m     76\u001b[0m \u001b[0;32mif\u001b[0m \u001b[0m__name__\u001b[0m \u001b[0;34m==\u001b[0m \u001b[0;34m\"__main__\"\u001b[0m\u001b[0;34m:\u001b[0m\u001b[0;34m\u001b[0m\u001b[0m\n\u001b[0;32m---> 77\u001b[0;31m     \u001b[0mapp\u001b[0m\u001b[0;34m.\u001b[0m\u001b[0mrun\u001b[0m\u001b[0;34m(\u001b[0m\u001b[0;34m)\u001b[0m\u001b[0;34m\u001b[0m\u001b[0m\n\u001b[0m\u001b[1;32m     78\u001b[0m \u001b[0;34m\u001b[0m\u001b[0m\n\u001b[1;32m     79\u001b[0m \u001b[0;34m\u001b[0m\u001b[0m\n",
      "\u001b[0;32m/Volumes/Development/softwares/anaconda/lib/python3.5/site-packages/web.py-0.40.dev0-py3.5.egg/web/application.py\u001b[0m in \u001b[0;36mrun\u001b[0;34m(self, *middleware)\u001b[0m\n\u001b[1;32m    339\u001b[0m         \u001b[0mfunction\u001b[0m\u001b[0;34m.\u001b[0m\u001b[0;34m\u001b[0m\u001b[0m\n\u001b[1;32m    340\u001b[0m         \"\"\"\n\u001b[0;32m--> 341\u001b[0;31m         \u001b[0;32mreturn\u001b[0m \u001b[0mwsgi\u001b[0m\u001b[0;34m.\u001b[0m\u001b[0mrunwsgi\u001b[0m\u001b[0;34m(\u001b[0m\u001b[0mself\u001b[0m\u001b[0;34m.\u001b[0m\u001b[0mwsgifunc\u001b[0m\u001b[0;34m(\u001b[0m\u001b[0;34m*\u001b[0m\u001b[0mmiddleware\u001b[0m\u001b[0;34m)\u001b[0m\u001b[0;34m)\u001b[0m\u001b[0;34m\u001b[0m\u001b[0m\n\u001b[0m\u001b[1;32m    342\u001b[0m \u001b[0;34m\u001b[0m\u001b[0m\n\u001b[1;32m    343\u001b[0m     \u001b[0;32mdef\u001b[0m \u001b[0mstop\u001b[0m\u001b[0;34m(\u001b[0m\u001b[0mself\u001b[0m\u001b[0;34m)\u001b[0m\u001b[0;34m:\u001b[0m\u001b[0;34m\u001b[0m\u001b[0m\n",
      "\u001b[0;32m/Volumes/Development/softwares/anaconda/lib/python3.5/site-packages/web.py-0.40.dev0-py3.5.egg/web/wsgi.py\u001b[0m in \u001b[0;36mrunwsgi\u001b[0;34m(func)\u001b[0m\n\u001b[1;32m     53\u001b[0m \u001b[0;34m\u001b[0m\u001b[0m\n\u001b[1;32m     54\u001b[0m \u001b[0;34m\u001b[0m\u001b[0m\n\u001b[0;32m---> 55\u001b[0;31m     \u001b[0mserver_addr\u001b[0m \u001b[0;34m=\u001b[0m \u001b[0mvalidip\u001b[0m\u001b[0;34m(\u001b[0m\u001b[0mlistget\u001b[0m\u001b[0;34m(\u001b[0m\u001b[0msys\u001b[0m\u001b[0;34m.\u001b[0m\u001b[0margv\u001b[0m\u001b[0;34m,\u001b[0m \u001b[0;36m1\u001b[0m\u001b[0;34m,\u001b[0m \u001b[0;34m''\u001b[0m\u001b[0;34m)\u001b[0m\u001b[0;34m)\u001b[0m\u001b[0;34m\u001b[0m\u001b[0m\n\u001b[0m\u001b[1;32m     56\u001b[0m     \u001b[0;32mif\u001b[0m \u001b[0;34m'PORT'\u001b[0m \u001b[0;32min\u001b[0m \u001b[0mos\u001b[0m\u001b[0;34m.\u001b[0m\u001b[0menviron\u001b[0m\u001b[0;34m:\u001b[0m \u001b[0;31m# e.g. Heroku\u001b[0m\u001b[0;34m\u001b[0m\u001b[0m\n\u001b[1;32m     57\u001b[0m         \u001b[0mserver_addr\u001b[0m \u001b[0;34m=\u001b[0m \u001b[0;34m(\u001b[0m\u001b[0;34m'0.0.0.0'\u001b[0m\u001b[0;34m,\u001b[0m \u001b[0mintget\u001b[0m\u001b[0;34m(\u001b[0m\u001b[0mos\u001b[0m\u001b[0;34m.\u001b[0m\u001b[0menviron\u001b[0m\u001b[0;34m[\u001b[0m\u001b[0;34m'PORT'\u001b[0m\u001b[0;34m]\u001b[0m\u001b[0;34m)\u001b[0m\u001b[0;34m)\u001b[0m\u001b[0;34m\u001b[0m\u001b[0m\n",
      "\u001b[0;32m/Volumes/Development/softwares/anaconda/lib/python3.5/site-packages/web.py-0.40.dev0-py3.5.egg/web/net.py\u001b[0m in \u001b[0;36mvalidip\u001b[0;34m(ip, defaultaddr, defaultport)\u001b[0m\n\u001b[1;32m    124\u001b[0m             \u001b[0mport\u001b[0m \u001b[0;34m=\u001b[0m \u001b[0mint\u001b[0m\u001b[0;34m(\u001b[0m\u001b[0mip\u001b[0m\u001b[0;34m[\u001b[0m\u001b[0;36m0\u001b[0m\u001b[0;34m]\u001b[0m\u001b[0;34m)\u001b[0m\u001b[0;34m\u001b[0m\u001b[0m\n\u001b[1;32m    125\u001b[0m         \u001b[0;32melse\u001b[0m\u001b[0;34m:\u001b[0m\u001b[0;34m\u001b[0m\u001b[0m\n\u001b[0;32m--> 126\u001b[0;31m             \u001b[0;32mraise\u001b[0m \u001b[0mValueError\u001b[0m\u001b[0;34m(\u001b[0m\u001b[0;34m':'\u001b[0m\u001b[0;34m.\u001b[0m\u001b[0mjoin\u001b[0m\u001b[0;34m(\u001b[0m\u001b[0mip\u001b[0m\u001b[0;34m)\u001b[0m \u001b[0;34m+\u001b[0m \u001b[0;34m' is not a valid IP address/port'\u001b[0m\u001b[0;34m)\u001b[0m\u001b[0;34m\u001b[0m\u001b[0m\n\u001b[0m\u001b[1;32m    127\u001b[0m     \u001b[0;32melif\u001b[0m \u001b[0mlen\u001b[0m\u001b[0;34m(\u001b[0m\u001b[0mip\u001b[0m\u001b[0;34m)\u001b[0m \u001b[0;34m==\u001b[0m \u001b[0;36m2\u001b[0m\u001b[0;34m:\u001b[0m\u001b[0;34m\u001b[0m\u001b[0m\n\u001b[1;32m    128\u001b[0m         \u001b[0maddr\u001b[0m\u001b[0;34m,\u001b[0m \u001b[0mport\u001b[0m \u001b[0;34m=\u001b[0m \u001b[0mip\u001b[0m\u001b[0;34m\u001b[0m\u001b[0m\n",
      "\u001b[0;31mValueError\u001b[0m: -f is not a valid IP address/port"
     ]
    }
   ],
   "source": [
    "#!/usr/bin/env python\n",
    "\n",
    "import pylru\n",
    "import web \n",
    "\n",
    "\n",
    "class inMemoryCache (object):\n",
    "    def __init__(self, size=1000, cacheMgr = pylru.WriteThroughCacheManager ): \n",
    "        self._store = {}\n",
    "        self._cache = cacheMgr(self._store, size)\n",
    "        self._cacheMgr = cacheMgr\n",
    "    \n",
    "    def __len__(self):\n",
    "        return len(self._cache)\n",
    "\n",
    "    def __contains__(self, key):\n",
    "        return key in self._cache\n",
    "\n",
    "    def __getitem__(self, key):\n",
    "        if key in self._cache:\n",
    "            return self._cache[key]\n",
    "        return 0\n",
    "\n",
    "    def __setitem__(self, key, value):\n",
    "        self._cache[key] = value\n",
    "        \n",
    "    def __delitem__(self, key):\n",
    "        found = False\n",
    "        for data in (self._cache):\n",
    "            if key in data:\n",
    "                del data[key]\n",
    "                found = True\n",
    "        if not found:\n",
    "            raise KeyError(key)\n",
    "\n",
    "    def keys(self):\n",
    "        keys = set(self._cache.keys())\n",
    "        keys.update(self._dbm.keys())\n",
    "        return keys\n",
    "    \n",
    "\n",
    "\n",
    "urls = ( \n",
    "         '/list',             'listKeys',    # Dump the whole store\n",
    "         '/get/(.*)',         'getVal',      # get the value associated with a key \n",
    "         '/set?(.*)',         'setVal',      # set the value of a key\n",
    "         '/del/(.*)',         'delKey',      # delete a key from store,\n",
    "         '/add?(.*)',         'add',\n",
    "         '/put?(.*)',         'put',\n",
    "         '/expand/(.*)',      'expand'       # expand all place holder keys from the store contained in a string. \n",
    "      )   \n",
    "\n",
    "class setVal:\n",
    "   def POST (self, key):\n",
    "      data = web.input()\n",
    "      for key in data : \n",
    "         store[key] = data[key]\n",
    "\n",
    "class listKeys:    \n",
    "   def GET (self):\n",
    "      return store\n",
    "\n",
    "class delKey:\n",
    "   def POST(self, key):\n",
    "      data = web.input()\n",
    "      for key in data.keys():\n",
    "         if key in store: del store[key]\n",
    "\n",
    "class expand:\n",
    "   def GET(self, string):\n",
    "      return string\n",
    "\n",
    "\n",
    "app = web.application(urls)\n",
    "\n",
    "if __name__ == \"__main__\":\n",
    "    app.run() \n",
    "    \n",
    "\n",
    "\n",
    "\n"
   ]
  },
  {
   "cell_type": "code",
   "execution_count": 119,
   "metadata": {
    "collapsed": false
   },
   "outputs": [
    {
     "data": {
      "text/plain": [
       "'/Volumes/Development/src/python/inMemoryCacheService'"
      ]
     },
     "execution_count": 119,
     "metadata": {},
     "output_type": "execute_result"
    }
   ],
   "source": [
    "pwd"
   ]
  },
  {
   "cell_type": "code",
   "execution_count": null,
   "metadata": {
    "collapsed": true
   },
   "outputs": [],
   "source": []
  }
 ],
 "metadata": {
  "anaconda-cloud": {},
  "kernelspec": {
   "display_name": "Python 3",
   "language": "python",
   "name": "python3"
  },
  "language_info": {
   "codemirror_mode": {
    "name": "ipython",
    "version": 3
   },
   "file_extension": ".py",
   "mimetype": "text/x-python",
   "name": "python",
   "nbconvert_exporter": "python",
   "pygments_lexer": "ipython3",
   "version": "3.5.2"
  }
 },
 "nbformat": 4,
 "nbformat_minor": 1
}
