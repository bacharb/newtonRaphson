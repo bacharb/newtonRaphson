{
 "cells": [
  {
   "cell_type": "markdown",
   "metadata": {},
   "source": [
    "This is my first tensor kernel or ops:  $$y = ax + b$$ where $$a=a_i,~x = x^i_j,~b=b_j,~y=y_j,~i\\in I,~and ~j \\in J$$."
   ]
  },
  {
   "cell_type": "code",
   "execution_count": 22,
   "metadata": {
    "collapsed": false
   },
   "outputs": [
    {
     "name": "stdout",
     "output_type": "stream",
     "text": [
      "[[-0.30000001  0.        ]\n",
      " [ 0.30000001  0.60000002]\n",
      " [ 0.90000004  1.20000005]\n",
      " [ 1.5         1.80000019]\n",
      " [ 2.10000014  2.4000001 ]\n",
      " [ 2.70000005  3.00000024]\n",
      " [ 3.30000019  3.60000014]\n",
      " [ 3.90000033  4.19999981]\n",
      " [ 4.5         4.80000019]\n",
      " [ 5.0999999   5.4000001 ]]\n"
     ]
    }
   ],
   "source": [
    "import tensorflow as tf\n",
    "import numpy      as np\n",
    "import pandas     as pd\n",
    "import pandas_datareader.data as web \n",
    "import quandl     as ql\n",
    "import datetime\n",
    "\n",
    "a = tf.Variable([.3], tf.float32)\n",
    "b = tf.Variable([-.3], tf.float32)\n",
    "x = tf.placeholder(tf.float32)\n",
    "\n",
    "linear_model = a * x + b\n",
    "\n",
    "s=tf.Session()\n",
    "init = tf.global_variables_initializer()\n",
    "s.run(init)\n",
    "\n",
    "n,m=10,2\n",
    "X = np.arange(n*m).reshape((n, m))\n",
    "\n",
    "print(s.run(linear_model, {x:X}))\n"
   ]
  },
  {
   "cell_type": "code",
   "execution_count": 19,
   "metadata": {
    "collapsed": false
   },
   "outputs": [],
   "source": [
    "n,m=10,2\n",
    "X = np.arange(n*m).reshape((n, m))"
   ]
  },
  {
   "cell_type": "code",
   "execution_count": 23,
   "metadata": {
    "collapsed": false
   },
   "outputs": [
    {
     "data": {
      "text/plain": [
       "array([[ 0,  1],\n",
       "       [ 2,  3],\n",
       "       [ 4,  5],\n",
       "       [ 6,  7],\n",
       "       [ 8,  9],\n",
       "       [10, 11],\n",
       "       [12, 13],\n",
       "       [14, 15],\n",
       "       [16, 17],\n",
       "       [18, 19]])"
      ]
     },
     "execution_count": 23,
     "metadata": {},
     "output_type": "execute_result"
    }
   ],
   "source": [
    "X\n"
   ]
  },
  {
   "cell_type": "code",
   "execution_count": null,
   "metadata": {
    "collapsed": true
   },
   "outputs": [],
   "source": []
  }
 ],
 "metadata": {
  "kernelspec": {
   "display_name": "Python 3",
   "language": "python",
   "name": "python3"
  },
  "language_info": {
   "codemirror_mode": {
    "name": "ipython",
    "version": 3
   },
   "file_extension": ".py",
   "mimetype": "text/x-python",
   "name": "python",
   "nbconvert_exporter": "python",
   "pygments_lexer": "ipython3",
   "version": "3.6.0"
  }
 },
 "nbformat": 4,
 "nbformat_minor": 2
}
