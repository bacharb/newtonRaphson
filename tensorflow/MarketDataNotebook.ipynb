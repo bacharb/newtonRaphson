{
 "cells": [
  {
   "cell_type": "code",
   "execution_count": null,
   "metadata": {
    "collapsed": true
   },
   "outputs": [],
   "source": [
    "import tensorflow as tf\n",
    "import numpy      as np\n",
    "import pandas     as pd\n",
    "import pandas_datareader.data as web \n",
    "import quandl     as ql\n",
    "import datetime\n",
    "\n",
    "pd.set_option('expand_frame_repr', False)\n",
    "\n",
    "days = datetime.timedelta(days=50)\n",
    "end = datetime.date.today()  \n",
    "start = end - days\n",
    "\n",
    "\n",
    "tickers = [\"^gspc\", \"^nya\", \"^dji\", \"^n225\",\"^ftse\",\"^hsi\",\"^aord\",\"^gdaxi\"]\n",
    "indices = tickers\n",
    " \n",
    "\n",
    "sites  =  ['yahoo','google','quandl','def']\n",
    "\n",
    "data =     web.DataReader(indices,  'yahoo', start, end)\n",
    "\n",
    "sliceKey = 'Close'\n",
    "\n",
    "closeData = data[sliceKey].fillna(method='ffill')\n",
    "\n",
    "\n",
    "closeData = closeData / closeData.max()   # transformation\n",
    "print (closeData)\n",
    "\n",
    "closeData = np.log(closeData/closeData.shift()) # log return "
   ]
  }
 ],
 "metadata": {
  "kernelspec": {
   "display_name": "Python 3",
   "language": "python",
   "name": "python3"
  },
  "language_info": {
   "codemirror_mode": {
    "name": "ipython",
    "version": 3
   },
   "file_extension": ".py",
   "mimetype": "text/x-python",
   "name": "python",
   "nbconvert_exporter": "python",
   "pygments_lexer": "ipython3",
   "version": "3.6.0"
  }
 },
 "nbformat": 4,
 "nbformat_minor": 2
}
